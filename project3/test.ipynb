{
 "cells": [
  {
   "cell_type": "code",
   "execution_count": 163,
   "metadata": {},
   "outputs": [],
   "source": [
    "lai_min = 40.492423\n",
    "lai_max = 40.918213\n",
    "long_min = -74.259052\n",
    "long_max = -73.700809\n",
    "\n"
   ]
  },
  {
   "cell_type": "code",
   "execution_count": 164,
   "metadata": {},
   "outputs": [
    {
     "name": "stdout",
     "output_type": "stream",
     "text": [
      "[-74.259052, -74.24788714, -74.23672228, -74.22555742, -74.21439256, -74.2032277, -74.19206283999999, -74.18089798, -74.16973312, -74.15856826, -74.1474034, -74.13623854, -74.12507368, -74.11390882, -74.10274396, -74.0915791, -74.08041424, -74.06924938, -74.05808452, -74.04691966, -74.0357548, -74.02458994, -74.01342508, -74.00226022, -73.99109536, -73.9799305, -73.96876564, -73.95760078, -73.94643592, -73.93527106, -73.9241062, -73.91294134, -73.90177648000001, -73.89061162, -73.87944676000001, -73.8682819, -73.85711704, -73.84595218, -73.83478732, -73.82362246000001, -73.8124576, -73.80129274000001, -73.79012788, -73.77896302, -73.76779816000001, -73.7566333, -73.74546844000001, -73.73430358, -73.72313872000001, -73.71197386]\n"
     ]
    }
   ],
   "source": [
    "long_list = []\n",
    "long_cell =  (long_max - long_min)/50\n",
    "for i in range(0,50):\n",
    "    long_list.append(long_min+long_cell*i)\n",
    "print(long_list)\n"
   ]
  },
  {
   "cell_type": "code",
   "execution_count": 165,
   "metadata": {},
   "outputs": [
    {
     "name": "stdout",
     "output_type": "stream",
     "text": [
      "[40.492423, 40.50306775, 40.513712500000004, 40.52435725, 40.535002000000006, 40.54564675, 40.5562915, 40.566936250000005, 40.577581, 40.58822575, 40.598870500000004, 40.60951525, 40.62016, 40.63080475, 40.6414495, 40.652094250000005, 40.662739, 40.67338375, 40.684028500000004, 40.69467325, 40.705318000000005, 40.71596275, 40.7266075, 40.737252250000004, 40.747897, 40.75854175, 40.7691865, 40.77983125, 40.790476, 40.80112075, 40.8117655, 40.822410250000004, 40.833055, 40.84369975, 40.8543445, 40.86498925, 40.875634000000005, 40.88627875, 40.8969235, 40.907568250000004]\n"
     ]
    }
   ],
   "source": [
    "lai_list = []\n",
    "lai_cell =  abs((lai_max - lai_min)/40)\n",
    "for i in range(0,40):\n",
    "    lai_list.append(lai_min+lai_cell*i)\n",
    "print(lai_list)\n",
    "\n"
   ]
  },
  {
   "cell_type": "code",
   "execution_count": 166,
   "metadata": {},
   "outputs": [],
   "source": [
    "def findSector(laitude,longtitude):\n",
    "    return(max(i for i in lai_list if i < laitude),max(i for i in long_list if i < longtitude))\n",
    "\n"
   ]
  },
  {
   "attachments": {},
   "cell_type": "markdown",
   "metadata": {},
   "source": [
    "crash data set (traffic) 2012-2023 has longtitude and leititude\n",
    "https://data.cityofnewyork.us/Public-Safety/Motor-Vehicle-Collisions-Crashes/h9gi-nx95\n",
    "\n",
    "\n",
    "policy complain 1961-2022\n",
    "https://data.cityofnewyork.us/Public-Safety/NYPD-Complaint-Data-Current-Year-To-Date-/5uac-w243\n",
    "\n",
    "NYPD shooting 2006-2021\n",
    "https://data.cityofnewyork.us/Public-Safety/NYPD-Shooting-Incident-Data-Historic-/833y-fsy8\n",
    "\n",
    "nypd arrest 2006-2021\n",
    "https://data.cityofnewyork.us/Public-Safety/NYPD-Arrests-Data-Historic-/8h9b-rp9u\n",
    "\n",
    "find 2012-2021"
   ]
  },
  {
   "cell_type": "code",
   "execution_count": 168,
   "metadata": {},
   "outputs": [],
   "source": [
    "import sys\n",
    "import csv\n",
    "import pandas as pd\n",
    "import os\n",
    "from datetime import datetime\n"
   ]
  },
  {
   "cell_type": "code",
   "execution_count": 170,
   "metadata": {},
   "outputs": [],
   "source": [
    "start_date = datetime.strptime(\"01/01/2012\", '%m/%d/%Y')\n",
    "end_date = datetime.strptime(\"12/31/2021\", '%m/%d/%Y')"
   ]
  },
  {
   "cell_type": "code",
   "execution_count": 171,
   "metadata": {},
   "outputs": [],
   "source": [
    "def findMode(series,keyWord):\n",
    "    if len(series) == 0:\n",
    "        return None\n",
    "    elif len(series) == 1:\n",
    "        return series.index[0]\n",
    "    \n",
    "    if series.index[0] == keyWord:\n",
    "        return series.index[1]\n",
    "    else:\n",
    "        return series.index[0]"
   ]
  },
  {
   "attachments": {},
   "cell_type": "markdown",
   "metadata": {},
   "source": [
    "Motor_Vehicle_Collisions_Crashes data clean"
   ]
  },
  {
   "cell_type": "code",
   "execution_count": 169,
   "metadata": {},
   "outputs": [
    {
     "name": "stderr",
     "output_type": "stream",
     "text": [
      "C:\\Users\\fzhan\\AppData\\Local\\Temp\\ipykernel_38760\\3890979819.py:1: DtypeWarning: Columns (3) have mixed types. Specify dtype option on import or set low_memory=False.\n",
      "  Motor_Vehicle_Collisions_Crashes_df = pd.read_csv('Motor_Vehicle_Collisions_-_Crashes.csv')\n"
     ]
    }
   ],
   "source": [
    "Motor_Vehicle_Collisions_Crashes_df = pd.read_csv('Motor_Vehicle_Collisions_-_Crashes.csv')\n"
   ]
  },
  {
   "cell_type": "code",
   "execution_count": 124,
   "metadata": {},
   "outputs": [],
   "source": [
    "#Motor_Vehicle_Collisions_Crashes_df\n",
    "Motor_Vehicle_Collisions_Crashes_map = {}\n",
    "for i in lai_list:\n",
    "    for j in long_list:\n",
    "        Motor_Vehicle_Collisions_Crashes_map[(i,j)] = []"
   ]
  },
  {
   "cell_type": "code",
   "execution_count": 125,
   "metadata": {},
   "outputs": [],
   "source": [
    "#Motor_Vehicle_Collisions_Crashes_df\n",
    "\n",
    "for idx, row in Motor_Vehicle_Collisions_Crashes_df.iterrows():\n",
    "    curr_date = datetime.strptime(row[\"CRASH DATE\"], '%m/%d/%Y')\n",
    "    if curr_date >= start_date and curr_date <= end_date:\n",
    "        if pd.isnull(row[\"LATITUDE\"]) == False and pd.isnull(row[\"LONGITUDE\"]) == False and lai_min <= row[\"LATITUDE\"] <= lai_max and long_min <= row[\"LONGITUDE\"] <= long_max:\n",
    "            curr_sector = findSector(row[\"LATITUDE\"],row[\"LONGITUDE\"])\n",
    "            if curr_sector in Motor_Vehicle_Collisions_Crashes_map:\n",
    "                Motor_Vehicle_Collisions_Crashes_map[curr_sector].append([row[\"NUMBER OF PERSONS INJURED\"],\n",
    "                                                                        row[\"NUMBER OF PERSONS KILLED\"],\n",
    "                                                                        row[\"NUMBER OF PEDESTRIANS INJURED\"],\n",
    "                                                                        row[\"NUMBER OF PEDESTRIANS KILLED\"],\n",
    "                                                                        row[\"NUMBER OF CYCLIST INJURED\"],\n",
    "                                                                        row[\"NUMBER OF CYCLIST KILLED\"],\n",
    "                                                                        row[\"NUMBER OF MOTORIST INJURED\"],\n",
    "                                                                        row[\"NUMBER OF MOTORIST KILLED\"],\n",
    "                                                                        row[\"CONTRIBUTING FACTOR VEHICLE 1\"],\n",
    "                                                                        row[\"CONTRIBUTING FACTOR VEHICLE 2\"],\n",
    "                                                                        row[\"CONTRIBUTING FACTOR VEHICLE 3\"],\n",
    "                                                                        row[\"CONTRIBUTING FACTOR VEHICLE 4\"],\n",
    "                                                                        row[\"CONTRIBUTING FACTOR VEHICLE 5\"],\n",
    "                                                                        row[\"VEHICLE TYPE CODE 1\"],\n",
    "                                                                        row[\"VEHICLE TYPE CODE 2\"],\n",
    "                                                                        row[\"VEHICLE TYPE CODE 3\"],\n",
    "                                                                        row[\"VEHICLE TYPE CODE 4\"],\n",
    "                                                                        row[\"VEHICLE TYPE CODE 5\"]])\n"
   ]
  },
  {
   "cell_type": "code",
   "execution_count": 160,
   "metadata": {},
   "outputs": [],
   "source": [
    "averaged_Motor_Vehicle_Collisions_Crashes_data = []\n",
    "for i in Motor_Vehicle_Collisions_Crashes_map:\n",
    "    if len(Motor_Vehicle_Collisions_Crashes_map[i]) >= 1:\n",
    "        curr_sector_df = pd.DataFrame(Motor_Vehicle_Collisions_Crashes_map[i], columns=[\"NUMBER OF PERSONS INJURED\",\n",
    "                                                                                        \"NUMBER OF PERSONS KILLED\",\n",
    "                                                                                        \"NUMBER OF PEDESTRIANS INJURED\",\n",
    "                                                                                        \"NUMBER OF PEDESTRIANS KILLED\",\n",
    "                                                                                        \"NUMBER OF CYCLIST INJURED\",\n",
    "                                                                                        \"NUMBER OF CYCLIST KILLED\",\n",
    "                                                                                        \"NUMBER OF MOTORIST INJURED\",\n",
    "                                                                                        \"NUMBER OF MOTORIST KILLED\",\n",
    "                                                                                        \"CONTRIBUTING FACTOR VEHICLE 1\",\n",
    "                                                                                        \"CONTRIBUTING FACTOR VEHICLE 2\",\n",
    "                                                                                        \"CONTRIBUTING FACTOR VEHICLE 3\",\n",
    "                                                                                        \"CONTRIBUTING FACTOR VEHICLE 4\",\n",
    "                                                                                        \"CONTRIBUTING FACTOR VEHICLE 5\",\n",
    "                                                                                        \"VEHICLE TYPE CODE 1\",\n",
    "                                                                                        \"VEHICLE TYPE CODE 2\",\n",
    "                                                                                        \"VEHICLE TYPE CODE 3\",\n",
    "                                                                                        \"VEHICLE TYPE CODE 4\",\n",
    "                                                                                        \"VEHICLE TYPE CODE 5\"])\n",
    "\n",
    "        curr_data = [i[0],\n",
    "                     i[1],\n",
    "                     curr_sector_df[\"NUMBER OF PERSONS INJURED\"].mean(),\n",
    "                     curr_sector_df[\"NUMBER OF PERSONS KILLED\"].mean(),\n",
    "                     curr_sector_df[\"NUMBER OF PEDESTRIANS INJURED\"].mean(),\n",
    "                     curr_sector_df[\"NUMBER OF PEDESTRIANS KILLED\"].mean(),\n",
    "                     curr_sector_df[\"NUMBER OF CYCLIST INJURED\"].mean(),\n",
    "                     curr_sector_df[\"NUMBER OF CYCLIST KILLED\"].mean(),\n",
    "                     curr_sector_df[\"NUMBER OF MOTORIST INJURED\"].mean(),\n",
    "                     curr_sector_df[\"NUMBER OF MOTORIST KILLED\"].mean(),\n",
    "                     findMode(curr_sector_df[\"CONTRIBUTING FACTOR VEHICLE 1\"].value_counts(\n",
    "                     ).nlargest(2), \"Unspecified\"),\n",
    "                     findMode(curr_sector_df[\"CONTRIBUTING FACTOR VEHICLE 2\"].value_counts(\n",
    "                     ).nlargest(2), \"Unspecified\"),\n",
    "                     findMode(curr_sector_df[\"CONTRIBUTING FACTOR VEHICLE 3\"].value_counts(\n",
    "                     ).nlargest(2), \"Unspecified\"),\n",
    "                     findMode(curr_sector_df[\"CONTRIBUTING FACTOR VEHICLE 4\"].value_counts(\n",
    "                     ).nlargest(2), \"Unspecified\"),\n",
    "                     findMode(curr_sector_df[\"CONTRIBUTING FACTOR VEHICLE 5\"].value_counts(\n",
    "                     ).nlargest(2), \"Unspecified\"),\n",
    "                     findMode(curr_sector_df[\"VEHICLE TYPE CODE 1\"].value_counts().nlargest(\n",
    "                         2), None),\n",
    "                     findMode(curr_sector_df[\"VEHICLE TYPE CODE 2\"].value_counts().nlargest(\n",
    "                         2), None),\n",
    "                     findMode(curr_sector_df[\"VEHICLE TYPE CODE 3\"].value_counts().nlargest(\n",
    "                         2), None),\n",
    "                     findMode(curr_sector_df[\"VEHICLE TYPE CODE 4\"].value_counts().nlargest(\n",
    "                         2), None),\n",
    "                     findMode(curr_sector_df[\"VEHICLE TYPE CODE 5\"].value_counts().nlargest(2), None)]\n",
    "        \n",
    "        averaged_Motor_Vehicle_Collisions_Crashes_data.append(curr_data)\n",
    "        \n"
   ]
  },
  {
   "cell_type": "code",
   "execution_count": 231,
   "metadata": {},
   "outputs": [],
   "source": [
    "averaged_Motor_Vehicle_Collisions_Crashes_data_df = pd.DataFrame(averaged_Motor_Vehicle_Collisions_Crashes_data, columns=[\"sector laitude\",\n",
    "                                                                                                                          \"sector longtitude\",\n",
    "                                                                                                                          \"Collisions_NUMBER OF PERSONS INJURED\",\n",
    "                                                                                                                          \"Collisions_NUMBER OF PERSONS KILLED\",\n",
    "                                                                                                                          \"Collisions_NUMBER OF PEDESTRIANS INJURED\",\n",
    "                                                                                                                          \"Collisions_NUMBER OF PEDESTRIANS KILLED\",\n",
    "                                                                                                                          \"Collisions_NUMBER OF CYCLIST INJURED\",\n",
    "                                                                                                                          \"Collisions_NUMBER OF CYCLIST KILLED\",\n",
    "                                                                                                                          \"Collisions_NUMBER OF MOTORIST INJURED\",\n",
    "                                                                                                                          \"Collisions_NUMBER OF MOTORIST KILLED\",\n",
    "                                                                                                                          \"Collisions_CONTRIBUTING FACTOR VEHICLE 1\",\n",
    "                                                                                                                          \"Collisions_CONTRIBUTING FACTOR VEHICLE 2\",\n",
    "                                                                                                                          \"Collisions_CONTRIBUTING FACTOR VEHICLE 3\",\n",
    "                                                                                                                          \"Collisions_CONTRIBUTING FACTOR VEHICLE 4\",\n",
    "                                                                                                                          \"Collisions_CONTRIBUTING FACTOR VEHICLE 5\",\n",
    "                                                                                                                          \"Collisions_VEHICLE TYPE CODE 1\",\n",
    "                                                                                                                          \"Collisions_VEHICLE TYPE CODE 2\",\n",
    "                                                                                                                          \"Collisions_VEHICLE TYPE CODE 3\",\n",
    "                                                                                                                          \"Collisions_VEHICLE TYPE CODE 4\",\n",
    "                                                                                                                          \"Collisions_VEHICLE TYPE CODE 5\"])\n"
   ]
  },
  {
   "cell_type": "code",
   "execution_count": 232,
   "metadata": {},
   "outputs": [],
   "source": [
    "averaged_Motor_Vehicle_Collisions_Crashes_data_df.to_csv('sector_Motor_Vehicle_Collisions_Crashes_data.csv')\n"
   ]
  },
  {
   "attachments": {},
   "cell_type": "markdown",
   "metadata": {},
   "source": [
    "NYPD_Arrests_Data__Historic_ data clean\n"
   ]
  },
  {
   "cell_type": "code",
   "execution_count": 173,
   "metadata": {},
   "outputs": [],
   "source": [
    "NYPD_Arrests_Data__Historic_df = pd.read_csv('NYPD_Arrests_Data__Historic_.csv')\n"
   ]
  },
  {
   "cell_type": "code",
   "execution_count": 182,
   "metadata": {},
   "outputs": [],
   "source": [
    "NYPD_Arrests_Data__Historic_map = {}\n",
    "for i in lai_list:\n",
    "    for j in long_list:\n",
    "        NYPD_Arrests_Data__Historic_map[(i,j)] = []"
   ]
  },
  {
   "cell_type": "code",
   "execution_count": 183,
   "metadata": {},
   "outputs": [],
   "source": [
    "\n",
    "for idx, row in NYPD_Arrests_Data__Historic_df.iterrows():\n",
    "    curr_date = datetime.strptime(row[\"ARREST_DATE\"], '%m/%d/%Y')\n",
    "    if curr_date >= start_date and curr_date <= end_date:\n",
    "        if pd.isnull(row[\"Latitude\"]) == False and pd.isnull(row[\"Longitude\"]) == False and lai_min <= row[\"Latitude\"] <= lai_max and long_min <= row[\"Longitude\"] <= long_max:\n",
    "            curr_sector = findSector(row[\"Latitude\"], row[\"Longitude\"])\n",
    "            if curr_sector in NYPD_Arrests_Data__Historic_map:\n",
    "                NYPD_Arrests_Data__Historic_map[curr_sector].append([row[\"PD_CD\"],\n",
    "                                                                     row[\"PD_DESC\"],\n",
    "                                                                     row[\"OFNS_DESC\"],\n",
    "                                                                     row[\"LAW_CODE\"],\n",
    "                                                                     row[\"LAW_CAT_CD\"],\n",
    "                                                                     row[\"ARREST_PRECINCT\"],\n",
    "                                                                     row[\"JURISDICTION_CODE\"],\n",
    "                                                                     row[\"AGE_GROUP\"],\n",
    "                                                                     row[\"PERP_SEX\"],\n",
    "                                                                     row[\"PERP_RACE\"]])\n"
   ]
  },
  {
   "cell_type": "code",
   "execution_count": 257,
   "metadata": {},
   "outputs": [],
   "source": []
  },
  {
   "cell_type": "code",
   "execution_count": 200,
   "metadata": {},
   "outputs": [],
   "source": [
    "averaged_NYPD_Arrests_Data__Historic = []\n",
    "\n",
    "for i in NYPD_Arrests_Data__Historic_map:\n",
    "    if len(NYPD_Arrests_Data__Historic_map[i]) >= 1:\n",
    "\n",
    "        curr_sector_df = pd.DataFrame(NYPD_Arrests_Data__Historic_map[i], columns=[\"PD_CD\",\n",
    "                                                                                   \"PD_DESC\",\n",
    "                                                                                   \"OFNS_DESC\",\n",
    "                                                                                   \"LAW_CODE\",\n",
    "                                                                                   \"LAW_CAT_CD\",\n",
    "                                                                                   \"ARREST_PRECINCT\",\n",
    "                                                                                   \"JURISDICTION_CODE\",\n",
    "                                                                                   \"AGE_GROUP\",\n",
    "                                                                                   \"PERP_SEX\",\n",
    "                                                                                   \"PERP_RACE\"])\n",
    "\n",
    "        curr_data = [i[0],\n",
    "                     i[1],\n",
    "                     findMode(curr_sector_df[\"PD_CD\"].value_counts(\n",
    "                     ).nlargest(2), \"Unspecified\"),\n",
    "                     findMode(curr_sector_df[\"PD_DESC\"].value_counts(\n",
    "                     ).nlargest(2), \"Unspecified\"),\n",
    "                     findMode(curr_sector_df[\"OFNS_DESC\"].value_counts(\n",
    "                     ).nlargest(2), \"Unspecified\"),\n",
    "                     findMode(curr_sector_df[\"LAW_CODE\"].value_counts(\n",
    "                     ).nlargest(2), \"Unspecified\"),\n",
    "                     findMode(curr_sector_df[\"LAW_CAT_CD\"].value_counts(\n",
    "                     ).nlargest(2), \"Unspecified\"),\n",
    "                     findMode(curr_sector_df[\"ARREST_PRECINCT\"].value_counts(\n",
    "                     ).nlargest(2), \"Unspecified\"),\n",
    "                     findMode(curr_sector_df[\"JURISDICTION_CODE\"].value_counts().nlargest(\n",
    "                         2), None),\n",
    "                     findMode(curr_sector_df[\"AGE_GROUP\"].value_counts().nlargest(\n",
    "                         2), None),\n",
    "                     findMode(curr_sector_df[\"PERP_SEX\"].value_counts().nlargest(\n",
    "                         2), None),\n",
    "                     findMode(curr_sector_df[\"PERP_RACE\"].value_counts().nlargest(\n",
    "                         2), None)]\n",
    "\n",
    "        averaged_NYPD_Arrests_Data__Historic.append(curr_data)\n"
   ]
  },
  {
   "cell_type": "code",
   "execution_count": 233,
   "metadata": {},
   "outputs": [],
   "source": [
    "averaged_NYPD_Arrests_Data__Historic_df = pd.DataFrame(averaged_NYPD_Arrests_Data__Historic, columns=[\"sector laitude\",\n",
    "                                                                                                      \"sector longtitude\",\n",
    "                                                                                                      \"Arrests_PD_CD\",\n",
    "                                                                                                      \"Arrests_PD_DESC\",\n",
    "                                                                                                      \"Arrests_OFNS_DESC\",\n",
    "                                                                                                      \"Arrests_LAW_CODE\",\n",
    "                                                                                                      \"Arrests_LAW_CAT_CD\",\n",
    "                                                                                                      \"Arrests_ARREST_PRECINCT\",\n",
    "                                                                                                      \"Arrests_JURISDICTION_CODE\",\n",
    "                                                                                                      \"Arrests_AGE_GROUP\",\n",
    "                                                                                                      \"Arrests_PERP_SEX\",\n",
    "                                                                                                      \"Arrests_PERP_RACE\"])\n"
   ]
  },
  {
   "cell_type": "code",
   "execution_count": 234,
   "metadata": {},
   "outputs": [],
   "source": [
    "averaged_NYPD_Arrests_Data__Historic_df.to_csv('sector_NYPD_Arrests_Data__Historic.csv')\n"
   ]
  },
  {
   "attachments": {},
   "cell_type": "markdown",
   "metadata": {},
   "source": [
    "NYPD_Complaint data clean"
   ]
  },
  {
   "cell_type": "code",
   "execution_count": 194,
   "metadata": {},
   "outputs": [],
   "source": [
    "NYPD_Complaint_Data_Current__Year_To_Date_df = pd.read_csv('NYPD_Complaint_Data_Current__Year_To_Date_.csv')\n"
   ]
  },
  {
   "cell_type": "code",
   "execution_count": 198,
   "metadata": {},
   "outputs": [],
   "source": [
    "NYPD_Complaint_Data_Current__Year_To_Date_map = {}\n",
    "for i in lai_list:\n",
    "    for j in long_list:\n",
    "        NYPD_Complaint_Data_Current__Year_To_Date_map[(i, j)] = []\n",
    "\n",
    "\n",
    "for idx, row in NYPD_Complaint_Data_Current__Year_To_Date_df.iterrows():\n",
    "    curr_date = datetime.strptime(row[\"CMPLNT_FR_DT\"], '%m/%d/%Y')\n",
    "\n",
    "    if curr_date >= start_date and curr_date <= end_date:\n",
    "        if pd.isnull(row[\"Latitude\"]) == False and pd.isnull(row[\"Longitude\"]) == False and lai_min <= row[\"Latitude\"] <= lai_max and long_min <= row[\"Longitude\"] <= long_max:\n",
    "            curr_sector = findSector(row[\"Latitude\"], row[\"Longitude\"])\n",
    "            if curr_sector in NYPD_Complaint_Data_Current__Year_To_Date_map:\n",
    "                NYPD_Complaint_Data_Current__Year_To_Date_map[curr_sector].append([row[\"ADDR_PCT_CD\"],\n",
    "                                                                                   row[\"CRM_ATPT_CPTD_CD\"],\n",
    "                                                                                   row[\"JURIS_DESC\"],\n",
    "                                                                                   row[\"KY_CD\"],\n",
    "                                                                                   row[\"LAW_CAT_CD\"],\n",
    "                                                                                   row[\"LOC_OF_OCCUR_DESC\"],\n",
    "                                                                                   row[\"OFNS_DESC\"],\n",
    "                                                                                   row[\"PD_CD\"],\n",
    "                                                                                   row[\"PD_DESC\"],\n",
    "                                                                                   row[\"PREM_TYP_DESC\"],\n",
    "                                                                                   row[\"SUSP_AGE_GROUP\"],\n",
    "                                                                                   row[\"SUSP_RACE\"],\n",
    "                                                                                   row[\"SUSP_SEX\"],\n",
    "                                                                                   row[\"VIC_AGE_GROUP\"],\n",
    "                                                                                   row[\"VIC_RACE\"],\n",
    "                                                                                   row[\"VIC_SEX\"]])\n"
   ]
  },
  {
   "cell_type": "code",
   "execution_count": 210,
   "metadata": {},
   "outputs": [],
   "source": [
    "averaged_NYPD_Complaint_Data_Current__Year_To_Date = []\n",
    "\n",
    "for i in NYPD_Complaint_Data_Current__Year_To_Date_map:\n",
    "    if len(NYPD_Complaint_Data_Current__Year_To_Date_map[i]) >= 10:\n",
    "\n",
    "        curr_sector_df = pd.DataFrame(NYPD_Complaint_Data_Current__Year_To_Date_map[i], columns=[\"ADDR_PCT_CD\",\n",
    "                                                                                                 \"CRM_ATPT_CPTD_CD\",\n",
    "                                                                                                 \"JURIS_DESC\",\n",
    "                                                                                                 \"KY_CD\",\n",
    "                                                                                                 \"LAW_CAT_CD\",\n",
    "                                                                                                 \"LOC_OF_OCCUR_DESC\",\n",
    "                                                                                                 \"OFNS_DESC\",\n",
    "                                                                                                 \"PD_CD\",\n",
    "                                                                                                 \"PD_DESC\",\n",
    "                                                                                                 \"PREM_TYP_DESC\",\n",
    "                                                                                                 \"SUSP_AGE_GROUP\",\n",
    "                                                                                                 \"SUSP_RACE\",\n",
    "                                                                                                 \"SUSP_SEX\",\n",
    "                                                                                                 \"VIC_AGE_GROUP\",\n",
    "                                                                                                 \"VIC_RACE\",\n",
    "                                                                                                 \"VIC_SEX\"])\n",
    "\n",
    "        #this data contians unknown and null, removed null \n",
    "        curr_data = [i[0],\n",
    "                     i[1],\n",
    "                     findMode(curr_sector_df[\"ADDR_PCT_CD\"].value_counts(\n",
    "                     ).nlargest(2), \"(null)\"),\n",
    "                     findMode(curr_sector_df[\"CRM_ATPT_CPTD_CD\"].value_counts(\n",
    "                     ).nlargest(2), \"(null)\"),\n",
    "                     findMode(curr_sector_df[\"JURIS_DESC\"].value_counts(\n",
    "                     ).nlargest(2), \"(null)\"),\n",
    "                     findMode(curr_sector_df[\"KY_CD\"].value_counts(\n",
    "                     ).nlargest(2), \"(null)\"),\n",
    "                     findMode(curr_sector_df[\"LAW_CAT_CD\"].value_counts(\n",
    "                     ).nlargest(2), \"(null)\"),\n",
    "                     findMode(curr_sector_df[\"LOC_OF_OCCUR_DESC\"].value_counts(\n",
    "                     ).nlargest(2), \"(null)\"),\n",
    "                    findMode(curr_sector_df[\"OFNS_DESC\"].value_counts(\n",
    "                     ).nlargest(2), \"(null)\"),\n",
    "                     findMode(curr_sector_df[\"PD_CD\"].value_counts().nlargest(\n",
    "                         2), \"(null)\"),\n",
    "                     findMode(curr_sector_df[\"PD_DESC\"].value_counts().nlargest(\n",
    "                         2), \"(null)\"),\n",
    "                     findMode(curr_sector_df[\"PREM_TYP_DESC\"].value_counts().nlargest(\n",
    "                         2), \"(null)\"),\n",
    "                     findMode(curr_sector_df[\"SUSP_AGE_GROUP\"].value_counts().nlargest(\n",
    "                         2), \"(null)\"),\n",
    "                     findMode(curr_sector_df[\"SUSP_RACE\"].value_counts(\n",
    "                     ).nlargest(2), \"(null)\"),\n",
    "                     findMode(curr_sector_df[\"SUSP_SEX\"].value_counts().nlargest(\n",
    "                         2), \"(null)\"),\n",
    "                     findMode(curr_sector_df[\"VIC_AGE_GROUP\"].value_counts().nlargest(\n",
    "                         2), \"(null)\"),\n",
    "                     findMode(curr_sector_df[\"VIC_RACE\"].value_counts().nlargest(\n",
    "                         2), \"(null)\"),\n",
    "                     findMode(curr_sector_df[\"VIC_SEX\"].value_counts().nlargest(\n",
    "                         2), \"(null)\")]\n",
    "\n",
    "\n",
    "        averaged_NYPD_Complaint_Data_Current__Year_To_Date.append(curr_data)\n"
   ]
  },
  {
   "cell_type": "code",
   "execution_count": 235,
   "metadata": {},
   "outputs": [],
   "source": [
    "averaged_NYPD_Complaint_Data_Current__Year_To_Date_df = pd.DataFrame(averaged_NYPD_Complaint_Data_Current__Year_To_Date, columns=[\"sector laitude\",\n",
    "                                                                                                                                  \"sector longtitude\",\n",
    "                                                                                                                                  \"Complaint_ADDR_PCT_CD\",\n",
    "                                                                                                                                  \"Complaint_CRM_ATPT_CPTD_CD\",\n",
    "                                                                                                                                  \"Complaint_JURIS_DESC\",\n",
    "                                                                                                                                  \"Complaint_KY_CD\",\n",
    "                                                                                                                                  \"Complaint_LAW_CAT_CD\",\n",
    "                                                                                                                                  \"Complaint_LOC_OF_OCCUR_DESC\",\n",
    "                                                                                                                                  \"Complaint_OFNS_DESC\",\n",
    "                                                                                                                                  \"Complaint_PD_CD\",\n",
    "                                                                                                                                  \"Complaint_PD_DESC\",\n",
    "                                                                                                                                  \"Complaint_PREM_TYP_DESC\",\n",
    "                                                                                                                                  \"Complaint_SUSP_AGE_GROUP\",\n",
    "                                                                                                                                  \"Complaint_SUSP_RACE\",\n",
    "                                                                                                                                  \"Complaint_SUSP_SEX\",\n",
    "                                                                                                                                  \"Complaint_VIC_AGE_GROUP\",\n",
    "                                                                                                                                  \"Complaint_VIC_RACE\",\n",
    "                                                                                                                                  \"Complaint_VIC_SEX\"])\n"
   ]
  },
  {
   "cell_type": "code",
   "execution_count": 236,
   "metadata": {},
   "outputs": [],
   "source": [
    "averaged_NYPD_Complaint_Data_Current__Year_To_Date_df.to_csv('sector_NYPD_Complaint_Data_Current__Year_To_Date.csv')\n"
   ]
  },
  {
   "attachments": {},
   "cell_type": "markdown",
   "metadata": {},
   "source": [
    "NYPD shooting data clean"
   ]
  },
  {
   "cell_type": "code",
   "execution_count": 214,
   "metadata": {},
   "outputs": [],
   "source": [
    "NYPD_Shooting_Incident_Data__Historic_df = pd.read_csv('NYPD_Shooting_Incident_Data__Historic_.csv')\n"
   ]
  },
  {
   "cell_type": "code",
   "execution_count": 281,
   "metadata": {},
   "outputs": [],
   "source": [
    "NYPD_Shooting_Incident_Data__Historic_map = {}\n",
    "for i in lai_list:\n",
    "    for j in long_list:\n",
    "        NYPD_Shooting_Incident_Data__Historic_map[(i, j)] = []\n",
    "\n",
    "\n",
    "for idx, row in NYPD_Shooting_Incident_Data__Historic_df.iterrows():\n",
    "    curr_date = datetime.strptime(row[\"OCCUR_DATE\"], '%m/%d/%Y')\n",
    "\n",
    "    if curr_date >= start_date and curr_date <= end_date:\n",
    "        if pd.isnull(row[\"Latitude\"]) == False and pd.isnull(row[\"Longitude\"]) == False and lai_min <= row[\"Latitude\"] <= lai_max and long_min <= row[\"Longitude\"] <= long_max:\n",
    "            curr_sector = findSector(row[\"Latitude\"], row[\"Longitude\"])\n",
    "            if curr_sector in NYPD_Shooting_Incident_Data__Historic_map:\n",
    "                NYPD_Shooting_Incident_Data__Historic_map[curr_sector].append([row[\"PRECINCT\"],\n",
    "                                                                                   row[\"JURISDICTION_CODE\"],\n",
    "                                                                                   row[\"LOCATION_DESC\"],\n",
    "                                                                                   row[\"STATISTICAL_MURDER_FLAG\"],\n",
    "                                                                                   row[\"PERP_AGE_GROUP\"],\n",
    "                                                                                   row[\"PERP_SEX\"],\n",
    "                                                                                   row[\"PERP_RACE\"],\n",
    "                                                                                   row[\"VIC_AGE_GROUP\"],\n",
    "                                                                                   row[\"VIC_SEX\"],\n",
    "                                                                                   row[\"VIC_RACE\"]])"
   ]
  },
  {
   "cell_type": "code",
   "execution_count": 282,
   "metadata": {},
   "outputs": [],
   "source": [
    "averaged_NYPD_Shooting_Incident_Data__Historic = []\n",
    "\n",
    "for i in NYPD_Shooting_Incident_Data__Historic_map:\n",
    "    if len(NYPD_Shooting_Incident_Data__Historic_map[i]) >= 10:\n",
    "\n",
    "        curr_sector_df = pd.DataFrame(NYPD_Shooting_Incident_Data__Historic_map[i], columns=[\"PRECINCT\",\n",
    "                                                                                             \"JURISDICTION_CODE\",\n",
    "                                                                                             \"LOCATION_DESC\",\n",
    "                                                                                             \"STATISTICAL_MURDER_FLAG\",\n",
    "                                                                                             \"PERP_AGE_GROUP\",\n",
    "                                                                                             \"PERP_SEX\",\n",
    "                                                                                             \"PERP_RACE\",\n",
    "                                                                                             \"VIC_AGE_GROUP\",\n",
    "                                                                                             \"VIC_SEX\",\n",
    "                                                                                             \"VIC_RACE\"])\n",
    "\n",
    "        # this data contians unknown and null, removed null\n",
    "        curr_data = [i[0],\n",
    "                     i[1],\n",
    "                     findMode(curr_sector_df[\"PRECINCT\"].value_counts(\n",
    "                     ).nlargest(2), \"(null)\"),\n",
    "                     findMode(curr_sector_df[\"JURISDICTION_CODE\"].value_counts(\n",
    "                     ).nlargest(2), \"(null)\"),\n",
    "                     findMode(curr_sector_df[\"LOCATION_DESC\"].value_counts(\n",
    "                     ).nlargest(2), \"(null)\"),\n",
    "                     findMode(curr_sector_df[\"STATISTICAL_MURDER_FLAG\"].value_counts(\n",
    "                     ).nlargest(2), \"(null)\"),\n",
    "                     findMode(curr_sector_df[\"PERP_AGE_GROUP\"].value_counts(\n",
    "                     ).nlargest(2), \"(null)\"),\n",
    "                     findMode(curr_sector_df[\"PERP_SEX\"].value_counts(\n",
    "                     ).nlargest(2), \"(null)\"),\n",
    "                     findMode(curr_sector_df[\"PERP_RACE\"].value_counts(\n",
    "                     ).nlargest(2), \"(null)\"),\n",
    "                     findMode(curr_sector_df[\"VIC_AGE_GROUP\"].value_counts().nlargest(\n",
    "                         2), \"(null)\"),\n",
    "                     findMode(curr_sector_df[\"VIC_SEX\"].value_counts().nlargest(\n",
    "                         2), \"(null)\"),\n",
    "                     findMode(curr_sector_df[\"VIC_RACE\"].value_counts().nlargest(\n",
    "                         2), \"(null)\")]\n",
    "\n",
    "        averaged_NYPD_Shooting_Incident_Data__Historic.append(curr_data)\n"
   ]
  },
  {
   "cell_type": "code",
   "execution_count": 283,
   "metadata": {},
   "outputs": [],
   "source": [
    "averaged_NYPD_Shooting_Incident_Data__Historic_df = pd.DataFrame(averaged_NYPD_Shooting_Incident_Data__Historic, columns=[\"sector laitude\",\n",
    "                                                                                                                          \"sector longtitude\",\n",
    "                                                                                                                          \"Shooting_PRECINCT\",\n",
    "                                                                                                                          \"Shooting_JURISDICTION_CODE\",\n",
    "                                                                                                                          \"Shooting_LOCATION_DESC\",\n",
    "                                                                                                                          \"Shooting_STATISTICAL_MURDER_FLAG\",\n",
    "                                                                                                                          \"Shooting_PERP_AGE_GROUP\",\n",
    "                                                                                                                          \"Shooting_PERP_SEX\",\n",
    "                                                                                                                          \"Shooting_PERP_RACE\",\n",
    "                                                                                                                          \"Shooting_VIC_AGE_GROUP\",\n",
    "                                                                                                                          \"Shooting_VIC_SEX\",\n",
    "                                                                                                                          \"Shooting_VIC_RACE\"])\n"
   ]
  },
  {
   "cell_type": "code",
   "execution_count": 284,
   "metadata": {},
   "outputs": [],
   "source": [
    "averaged_NYPD_Shooting_Incident_Data__Historic_df.to_csv('sector_NYPD_Shooting_Incident_Data__Historic.csv')\n"
   ]
  },
  {
   "attachments": {},
   "cell_type": "markdown",
   "metadata": {},
   "source": [
    "join all datasets\n"
   ]
  },
  {
   "cell_type": "code",
   "execution_count": 292,
   "metadata": {},
   "outputs": [],
   "source": [
    "sector_shooting_df = pd.read_csv('sector_NYPD_Shooting_Incident_Data__Historic.csv')\n",
    "sector_complaint_df = pd.read_csv('sector_NYPD_Complaint_Data_Current__Year_To_Date.csv')\n",
    "sector_arrest_df = pd.read_csv('sector_NYPD_Arrests_Data__Historic.csv')\n",
    "sector_collision_df = pd.read_csv('sector_Motor_Vehicle_Collisions_Crashes_data.csv')"
   ]
  },
  {
   "cell_type": "code",
   "execution_count": 293,
   "metadata": {},
   "outputs": [],
   "source": [
    "sector_list = []\n",
    "for i in lai_list:\n",
    "    for j in long_list:\n",
    "        sector_list.append([i,j])\n",
    "\n",
    "sector_df = pd.DataFrame(sector_list, columns=[\"sector laitude\",\"sector longtitude\"])"
   ]
  },
  {
   "cell_type": "code",
   "execution_count": 294,
   "metadata": {},
   "outputs": [
    {
     "name": "stderr",
     "output_type": "stream",
     "text": [
      "C:\\Users\\fzhan\\AppData\\Local\\Temp\\ipykernel_38760\\3828397620.py:4: FutureWarning: Passing 'suffixes' which cause duplicate columns {'Unnamed: 0_x'} in the result is deprecated and will raise a MergeError in a future version.\n",
      "  combined_df = pd.merge(combined_df,sector_collision_df, on=['sector laitude','sector longtitude'], how='outer')\n"
     ]
    }
   ],
   "source": [
    "combined_df = pd.merge(sector_df,sector_shooting_df, on=['sector laitude','sector longtitude'], how='outer')\n",
    "combined_df = pd.merge(combined_df,sector_complaint_df, on=['sector laitude','sector longtitude'], how='outer')\n",
    "combined_df = pd.merge(combined_df,sector_arrest_df, on=['sector laitude','sector longtitude'], how='outer')\n",
    "combined_df = pd.merge(combined_df,sector_collision_df, on=['sector laitude','sector longtitude'], how='outer')\n"
   ]
  },
  {
   "cell_type": "code",
   "execution_count": 295,
   "metadata": {},
   "outputs": [
    {
     "data": {
      "text/plain": [
       "2115"
      ]
     },
     "execution_count": 295,
     "metadata": {},
     "output_type": "execute_result"
    }
   ],
   "source": [
    "\n",
    "combined_df.shape[0]"
   ]
  },
  {
   "cell_type": "code",
   "execution_count": 296,
   "metadata": {},
   "outputs": [
    {
     "name": "stdout",
     "output_type": "stream",
     "text": [
      "sector laitude                                                         40.59887\n",
      "sector longtitude                                                    -73.767798\n",
      "Unnamed: 0_x                                                               14.0\n",
      "Shooting_PRECINCT                                                         101.0\n",
      "Shooting_JURISDICTION_CODE                                                  0.0\n",
      "Shooting_LOCATION_DESC                                  MULTI DWELL - APT BUILD\n",
      "Shooting_STATISTICAL_MURDER_FLAG                                          False\n",
      "Shooting_PERP_AGE_GROUP                                                     <18\n",
      "Shooting_PERP_SEX                                                             M\n",
      "Shooting_PERP_RACE                                                        BLACK\n",
      "Shooting_VIC_AGE_GROUP                                                    25-44\n",
      "Shooting_VIC_SEX                                                              M\n",
      "Shooting_VIC_RACE                                                         BLACK\n",
      "Unnamed: 0_y                                                                NaN\n",
      "Complaint_ADDR_PCT_CD                                                       NaN\n",
      "Complaint_CRM_ATPT_CPTD_CD                                                  NaN\n",
      "Complaint_JURIS_DESC                                                        NaN\n",
      "Complaint_KY_CD                                                             NaN\n",
      "Complaint_LAW_CAT_CD                                                        NaN\n",
      "Complaint_LOC_OF_OCCUR_DESC                                                 NaN\n",
      "Complaint_OFNS_DESC                                                         NaN\n",
      "Complaint_PD_CD                                                             NaN\n",
      "Complaint_PD_DESC                                                           NaN\n",
      "Complaint_PREM_TYP_DESC                                                     NaN\n",
      "Complaint_SUSP_AGE_GROUP                                                    NaN\n",
      "Complaint_SUSP_RACE                                                         NaN\n",
      "Complaint_SUSP_SEX                                                          NaN\n",
      "Complaint_VIC_AGE_GROUP                                                     NaN\n",
      "Complaint_VIC_RACE                                                          NaN\n",
      "Complaint_VIC_SEX                                                           NaN\n",
      "Unnamed: 0_x                                                              177.0\n",
      "Arrests_PD_CD                                                             101.0\n",
      "Arrests_PD_DESC                                                       ASSAULT 3\n",
      "Arrests_OFNS_DESC                                  ASSAULT 3 & RELATED OFFENSES\n",
      "Arrests_LAW_CODE                                                     PL 1200001\n",
      "Arrests_LAW_CAT_CD                                                            M\n",
      "Arrests_ARREST_PRECINCT                                                   101.0\n",
      "Arrests_JURISDICTION_CODE                                                   0.0\n",
      "Arrests_AGE_GROUP                                                         25-44\n",
      "Arrests_PERP_SEX                                                              M\n",
      "Arrests_PERP_RACE                                                         BLACK\n",
      "Unnamed: 0_y                                                              182.0\n",
      "Collisions_NUMBER OF PERSONS INJURED                                   0.290409\n",
      "Collisions_NUMBER OF PERSONS KILLED                                    0.003552\n",
      "Collisions_NUMBER OF PEDESTRIANS INJURED                               0.046181\n",
      "Collisions_NUMBER OF PEDESTRIANS KILLED                                0.000888\n",
      "Collisions_NUMBER OF CYCLIST INJURED                                   0.016874\n",
      "Collisions_NUMBER OF CYCLIST KILLED                                         0.0\n",
      "Collisions_NUMBER OF MOTORIST INJURED                                  0.226465\n",
      "Collisions_NUMBER OF MOTORIST KILLED                                   0.002664\n",
      "Collisions_CONTRIBUTING FACTOR VEHICLE 1         Driver Inattention/Distraction\n",
      "Collisions_CONTRIBUTING FACTOR VEHICLE 2         Driver Inattention/Distraction\n",
      "Collisions_CONTRIBUTING FACTOR VEHICLE 3                        Other Vehicular\n",
      "Collisions_CONTRIBUTING FACTOR VEHICLE 4                        Other Vehicular\n",
      "Collisions_CONTRIBUTING FACTOR VEHICLE 5                    Driver Inexperience\n",
      "Collisions_VEHICLE TYPE CODE 1                                            Sedan\n",
      "Collisions_VEHICLE TYPE CODE 2                                            Sedan\n",
      "Collisions_VEHICLE TYPE CODE 3                                            Sedan\n",
      "Collisions_VEHICLE TYPE CODE 4              Station Wagon/Sport Utility Vehicle\n",
      "Collisions_VEHICLE TYPE CODE 5                                            Sedan\n",
      "Name: 2000, dtype: object\n",
      "0\n"
     ]
    }
   ],
   "source": [
    "count = 0\n",
    "for idx, row in combined_df.iterrows():\n",
    "    if [row[\"sector laitude\"], row[\"sector longtitude\"]] not in sector_list:\n",
    "        print(row)\n",
    "        break\n",
    "print(count)\n"
   ]
  },
  {
   "cell_type": "code",
   "execution_count": 280,
   "metadata": {},
   "outputs": [
    {
     "name": "stdout",
     "output_type": "stream",
     "text": [
      "yes\n"
     ]
    }
   ],
   "source": [
    "# print(lai_list)\n",
    "# 40.59887\n",
    "findSector(40.59887,-73.767798)\n",
    "if findSector(40.59887,-73.767798)[0] in lai_list:\n",
    "    print(\"yes\")\n"
   ]
  },
  {
   "cell_type": "code",
   "execution_count": 297,
   "metadata": {},
   "outputs": [
    {
     "name": "stdout",
     "output_type": "stream",
     "text": [
      "36\n",
      "48\n",
      "112\n",
      "115\n"
     ]
    }
   ],
   "source": [
    "count = 0\n",
    "for idx, row in sector_shooting_df.iterrows():\n",
    "    if [row['sector laitude'],row['sector longtitude']] not in sector_list:\n",
    "        count = count + 1\n",
    "\n",
    "print(count)\n",
    "count = 0\n",
    "for idx, row in sector_complaint_df.iterrows():\n",
    "    if [row['sector laitude'],row['sector longtitude']] not in sector_list:\n",
    "        count = count + 1\n",
    "\n",
    "print(count)\n",
    "count = 0\n",
    "for idx, row in sector_arrest_df.iterrows():\n",
    "    if [row['sector laitude'],row['sector longtitude']] not in sector_list:\n",
    "        count = count + 1\n",
    "\n",
    "print(count)\n",
    "count = 0\n",
    "for idx, row in sector_collision_df.iterrows():\n",
    "    if [row['sector laitude'],row['sector longtitude']] not in sector_list:\n",
    "        count = count + 1\n",
    "\n",
    "print(count)"
   ]
  }
 ],
 "metadata": {
  "kernelspec": {
   "display_name": "Python 3",
   "language": "python",
   "name": "python3"
  },
  "language_info": {
   "codemirror_mode": {
    "name": "ipython",
    "version": 3
   },
   "file_extension": ".py",
   "mimetype": "text/x-python",
   "name": "python",
   "nbconvert_exporter": "python",
   "pygments_lexer": "ipython3",
   "version": "3.10.11"
  },
  "orig_nbformat": 4
 },
 "nbformat": 4,
 "nbformat_minor": 2
}
